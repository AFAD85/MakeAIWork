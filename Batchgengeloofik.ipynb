{
 "cells": [
  {
   "cell_type": "markdown",
   "metadata": {},
   "source": [
    "Opzet aaneenschakeling verschillende onderdelen\n",
    "\n",
    "\n",
    "USE\n",
    "- Batch generator (generates a list of 80 apples, based on input requested batch specifications)\n",
    "- Apple classifier (returns list of labels corresponding with batch items)\n",
    "- AQL klassificatie (returns AQL class based on batch)\n",
    "- Sjetbot (provides access to statistics for batch) - \n",
    "\n",
    "\n",
    "UI-USE\n",
    "\n",
    "Initializatie: [SELECTEREN opties in config bestand]\n",
    "input grootte batch, input aspecten batch (of default)\n",
    "    Weergave gemaakte batch (80 plaatjes(thumbnails), met labels) selectie uit train en test (dus model trainen op augmented)\n",
    "[ACHTERGROND]verwerking batch\n",
    "    -AQL class\n",
    "    -statistieken\n",
    "Doorstoot naar Sjetbot\n",
    "    - *working, progressie bar*\n",
    "    - completed => input question\n",
    "    - Sjetbot geeft antwoord NALV aangemaakte batch\n",
    "\n",
    "\n",
    "BUILD\n",
    "\n",
    "\n",
    "UI-BUILD\n",
    "Selectie model : mob net // eigen model\n",
    "Selectie dataset : standaard // augmented\n",
    "Training model --- to-do opslaan model inbouwen in tensorflow modellen - verder in orde\n"
   ]
  },
  {
   "cell_type": "markdown",
   "metadata": {},
   "source": []
  }
 ],
 "metadata": {
  "kernelspec": {
   "display_name": "Python 3.11.0 ('env': venv)",
   "language": "python",
   "name": "python3"
  },
  "language_info": {
   "name": "python",
   "version": "3.11.0"
  },
  "orig_nbformat": 4,
  "vscode": {
   "interpreter": {
    "hash": "343175793893d94ad600fed4205d39857cd4175d02ecc054914f6e7a2056793d"
   }
  }
 },
 "nbformat": 4,
 "nbformat_minor": 2
}
