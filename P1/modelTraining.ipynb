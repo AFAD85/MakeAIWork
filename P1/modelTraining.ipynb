{
 "cells": [
  {
   "cell_type": "code",
   "execution_count": 78,
   "metadata": {},
   "outputs": [
    {
     "data": {
      "text/html": [
       "<div>\n",
       "<style scoped>\n",
       "    .dataframe tbody tr th:only-of-type {\n",
       "        vertical-align: middle;\n",
       "    }\n",
       "\n",
       "    .dataframe tbody tr th {\n",
       "        vertical-align: top;\n",
       "    }\n",
       "\n",
       "    .dataframe thead th {\n",
       "        text-align: right;\n",
       "    }\n",
       "</style>\n",
       "<table border=\"1\" class=\"dataframe\">\n",
       "  <thead>\n",
       "    <tr style=\"text-align: right;\">\n",
       "      <th></th>\n",
       "      <th>s1</th>\n",
       "      <th>s2</th>\n",
       "      <th>s3</th>\n",
       "      <th>sA</th>\n",
       "    </tr>\n",
       "  </thead>\n",
       "  <tbody>\n",
       "    <tr>\n",
       "      <th>0</th>\n",
       "      <td>1.3988</td>\n",
       "      <td>1.2249</td>\n",
       "      <td>1.7394</td>\n",
       "      <td>-22</td>\n",
       "    </tr>\n",
       "    <tr>\n",
       "      <th>1</th>\n",
       "      <td>1.3993</td>\n",
       "      <td>1.2253</td>\n",
       "      <td>1.7396</td>\n",
       "      <td>-22</td>\n",
       "    </tr>\n",
       "    <tr>\n",
       "      <th>2</th>\n",
       "      <td>1.3992</td>\n",
       "      <td>1.2252</td>\n",
       "      <td>1.7395</td>\n",
       "      <td>-22</td>\n",
       "    </tr>\n",
       "    <tr>\n",
       "      <th>3</th>\n",
       "      <td>1.3983</td>\n",
       "      <td>1.2245</td>\n",
       "      <td>1.7389</td>\n",
       "      <td>-22</td>\n",
       "    </tr>\n",
       "    <tr>\n",
       "      <th>4</th>\n",
       "      <td>1.3962</td>\n",
       "      <td>1.2228</td>\n",
       "      <td>1.7374</td>\n",
       "      <td>-22</td>\n",
       "    </tr>\n",
       "  </tbody>\n",
       "</table>\n",
       "</div>"
      ],
      "text/plain": [
       "       s1      s2      s3  sA\n",
       "0  1.3988  1.2249  1.7394 -22\n",
       "1  1.3993  1.2253  1.7396 -22\n",
       "2  1.3992  1.2252  1.7395 -22\n",
       "3  1.3983  1.2245  1.7389 -22\n",
       "4  1.3962  1.2228  1.7374 -22"
      ]
     },
     "execution_count": 78,
     "metadata": {},
     "output_type": "execute_result"
    }
   ],
   "source": [
    "import sklearn as sk\n",
    "import pandas as pd\n",
    "import pickle\n",
    "\n",
    "\n",
    "from sklearn.neural_network import MLPClassifier\n",
    "#filename = 'C:/Users/Anton/MakeAIWork/simulations/ai/sonarTrainingSet.csv'\n",
    "filename = 'C:/Users/Anton/MakeAIWork/simulations/ai/sonar.csv'\n",
    "names = ['s1','s2','s3','sA']\n",
    "sonarData = pd.read_csv(filename,names=names)\n",
    "#mijn comma seperated file is niet comma sepparated... ik zou dat natuurlijk kunnen uitleggen, maar geen zin in... \n",
    "#opgelost door op te slaan via open office als csv\n",
    "\n",
    "#sonarData.colums = ['s1','s2','s3','sA']\n",
    "#y = \n",
    "sonarData.head()\n",
    "\n",
    "#trainingset (kolommen 1 tm 3) komt in X, labels (kolom 4) in y\n",
    "#\n"
   ]
  },
  {
   "cell_type": "code",
   "execution_count": 79,
   "metadata": {},
   "outputs": [],
   "source": [
    "#X hier de trainingsdata voor het NN (benaming lijkt conventie?)\n",
    "X = sonarData.iloc [:, 0:3]\n",
    "#y hier de labels bij de trainingsdata (wederom conventie?)\n",
    "y = sonarData.iloc [:, 3]"
   ]
  },
  {
   "cell_type": "code",
   "execution_count": 80,
   "metadata": {},
   "outputs": [
    {
     "name": "stdout",
     "output_type": "stream",
     "text": [
      "          s1      s2      s3\n",
      "0     1.3988  1.2249  1.7394\n",
      "1     1.3993  1.2253  1.7396\n",
      "2     1.3992  1.2252  1.7395\n",
      "3     1.3983  1.2245  1.7389\n",
      "4     1.3962  1.2228  1.7374\n",
      "...      ...     ...     ...\n",
      "5938  1.9475  1.3321  1.7045\n",
      "5939  1.8554  1.2643  1.6472\n",
      "5940  1.7981  1.2239  1.6132\n",
      "5941  1.7981  1.2239  1.6132\n",
      "5942  1.6896  1.1516  1.5528\n",
      "\n",
      "[5943 rows x 3 columns]\n"
     ]
    }
   ],
   "source": [
    "print (X)"
   ]
  },
  {
   "cell_type": "code",
   "execution_count": 81,
   "metadata": {},
   "outputs": [],
   "source": [
    "#nog nader te onderzoeken hoe automatiseer ik dat de test en validatie (X en y) zodat deze steeds een ander deel van de set als X en y nemen (dus 5 verschillende y sets van 20% v/d set)\n",
    "\n",
    "from sklearn.model_selection import train_test_split\n",
    "X_train, X_test, y_train, y_test = train_test_split(X, y, test_size = 0.20)"
   ]
  },
  {
   "cell_type": "code",
   "execution_count": 82,
   "metadata": {},
   "outputs": [],
   "source": [
    "# we gaan scalen.. maaaaaaruh dat is toch meer abstract maken waar dat niet nodig is? de sonar data is toch prima te gebruiken voor de training (allemaal in meters, en de labels allemaal in stuurhoeken) ook lijkt de spreiding/variantie mij niet heel erg van invloed... indien tijd - meer in verdiepen\n",
    "# we scalen in elk geval enkel de trainings data en niet de test data, want we willen het model testen op 'real world data'\n",
    "from sklearn.preprocessing import StandardScaler\n",
    "scaler = StandardScaler()\n",
    "scaler.fit(X_train)\n",
    "\n",
    "X_train = scaler.transform(X_train)\n",
    "X_test = scaler.transform(X_test)"
   ]
  },
  {
   "cell_type": "code",
   "execution_count": 83,
   "metadata": {},
   "outputs": [],
   "source": [
    "\n"
   ]
  },
  {
   "cell_type": "code",
   "execution_count": 84,
   "metadata": {},
   "outputs": [
    {
     "data": {
      "text/html": [
       "<style>#sk-container-id-7 {color: black;background-color: white;}#sk-container-id-7 pre{padding: 0;}#sk-container-id-7 div.sk-toggleable {background-color: white;}#sk-container-id-7 label.sk-toggleable__label {cursor: pointer;display: block;width: 100%;margin-bottom: 0;padding: 0.3em;box-sizing: border-box;text-align: center;}#sk-container-id-7 label.sk-toggleable__label-arrow:before {content: \"▸\";float: left;margin-right: 0.25em;color: #696969;}#sk-container-id-7 label.sk-toggleable__label-arrow:hover:before {color: black;}#sk-container-id-7 div.sk-estimator:hover label.sk-toggleable__label-arrow:before {color: black;}#sk-container-id-7 div.sk-toggleable__content {max-height: 0;max-width: 0;overflow: hidden;text-align: left;background-color: #f0f8ff;}#sk-container-id-7 div.sk-toggleable__content pre {margin: 0.2em;color: black;border-radius: 0.25em;background-color: #f0f8ff;}#sk-container-id-7 input.sk-toggleable__control:checked~div.sk-toggleable__content {max-height: 200px;max-width: 100%;overflow: auto;}#sk-container-id-7 input.sk-toggleable__control:checked~label.sk-toggleable__label-arrow:before {content: \"▾\";}#sk-container-id-7 div.sk-estimator input.sk-toggleable__control:checked~label.sk-toggleable__label {background-color: #d4ebff;}#sk-container-id-7 div.sk-label input.sk-toggleable__control:checked~label.sk-toggleable__label {background-color: #d4ebff;}#sk-container-id-7 input.sk-hidden--visually {border: 0;clip: rect(1px 1px 1px 1px);clip: rect(1px, 1px, 1px, 1px);height: 1px;margin: -1px;overflow: hidden;padding: 0;position: absolute;width: 1px;}#sk-container-id-7 div.sk-estimator {font-family: monospace;background-color: #f0f8ff;border: 1px dotted black;border-radius: 0.25em;box-sizing: border-box;margin-bottom: 0.5em;}#sk-container-id-7 div.sk-estimator:hover {background-color: #d4ebff;}#sk-container-id-7 div.sk-parallel-item::after {content: \"\";width: 100%;border-bottom: 1px solid gray;flex-grow: 1;}#sk-container-id-7 div.sk-label:hover label.sk-toggleable__label {background-color: #d4ebff;}#sk-container-id-7 div.sk-serial::before {content: \"\";position: absolute;border-left: 1px solid gray;box-sizing: border-box;top: 0;bottom: 0;left: 50%;z-index: 0;}#sk-container-id-7 div.sk-serial {display: flex;flex-direction: column;align-items: center;background-color: white;padding-right: 0.2em;padding-left: 0.2em;position: relative;}#sk-container-id-7 div.sk-item {position: relative;z-index: 1;}#sk-container-id-7 div.sk-parallel {display: flex;align-items: stretch;justify-content: center;background-color: white;position: relative;}#sk-container-id-7 div.sk-item::before, #sk-container-id-7 div.sk-parallel-item::before {content: \"\";position: absolute;border-left: 1px solid gray;box-sizing: border-box;top: 0;bottom: 0;left: 50%;z-index: -1;}#sk-container-id-7 div.sk-parallel-item {display: flex;flex-direction: column;z-index: 1;position: relative;background-color: white;}#sk-container-id-7 div.sk-parallel-item:first-child::after {align-self: flex-end;width: 50%;}#sk-container-id-7 div.sk-parallel-item:last-child::after {align-self: flex-start;width: 50%;}#sk-container-id-7 div.sk-parallel-item:only-child::after {width: 0;}#sk-container-id-7 div.sk-dashed-wrapped {border: 1px dashed gray;margin: 0 0.4em 0.5em 0.4em;box-sizing: border-box;padding-bottom: 0.4em;background-color: white;}#sk-container-id-7 div.sk-label label {font-family: monospace;font-weight: bold;display: inline-block;line-height: 1.2em;}#sk-container-id-7 div.sk-label-container {text-align: center;}#sk-container-id-7 div.sk-container {/* jupyter's `normalize.less` sets `[hidden] { display: none; }` but bootstrap.min.css set `[hidden] { display: none !important; }` so we also need the `!important` here to be able to override the default hidden behavior on the sphinx rendered scikit-learn.org. See: https://github.com/scikit-learn/scikit-learn/issues/21755 */display: inline-block !important;position: relative;}#sk-container-id-7 div.sk-text-repr-fallback {display: none;}</style><div id=\"sk-container-id-7\" class=\"sk-top-container\"><div class=\"sk-text-repr-fallback\"><pre>MLPClassifier(hidden_layer_sizes=(10, 10, 10), max_iter=1000)</pre><b>In a Jupyter environment, please rerun this cell to show the HTML representation or trust the notebook. <br />On GitHub, the HTML representation is unable to render, please try loading this page with nbviewer.org.</b></div><div class=\"sk-container\" hidden><div class=\"sk-item\"><div class=\"sk-estimator sk-toggleable\"><input class=\"sk-toggleable__control sk-hidden--visually\" id=\"sk-estimator-id-7\" type=\"checkbox\" checked><label for=\"sk-estimator-id-7\" class=\"sk-toggleable__label sk-toggleable__label-arrow\">MLPClassifier</label><div class=\"sk-toggleable__content\"><pre>MLPClassifier(hidden_layer_sizes=(10, 10, 10), max_iter=1000)</pre></div></div></div></div></div>"
      ],
      "text/plain": [
       "MLPClassifier(hidden_layer_sizes=(10, 10, 10), max_iter=1000)"
      ]
     },
     "execution_count": 84,
     "metadata": {},
     "output_type": "execute_result"
    }
   ],
   "source": [
    "#gebuikt relu en Adam (sophastic gradient descent, maar dan beter?)\n",
    "# adam = zeker weten ook mijn keuzen, gewoon een duidelijk betere methode om het dal te vinden, niet blind op vertrouwen mgoed voor nu prima. relu = niet mijn eigen keuze, vooral vanuit de docenten even om tijdsgebrek gekozen voor wat zij zeggen. Zelf vooral softmax willen proberen om zo trouw mogelijk aan de input te blijven, en dan regressie om een soepeler sturend autotje te krijgen\n",
    "mlp = MLPClassifier(hidden_layer_sizes=(10, 10,10), max_iter=1000)\n",
    "mlp.fit(X_train, y_train.values.ravel())"
   ]
  },
  {
   "cell_type": "code",
   "execution_count": 85,
   "metadata": {},
   "outputs": [],
   "source": [
    "\n",
    "\n",
    "predictions = mlp.predict(X_test)"
   ]
  },
  {
   "cell_type": "code",
   "execution_count": 86,
   "metadata": {},
   "outputs": [
    {
     "name": "stdout",
     "output_type": "stream",
     "text": [
      "[[206   3   0]\n",
      " [ 11 883  10]\n",
      " [  0  41  35]]\n",
      "              precision    recall  f1-score   support\n",
      "\n",
      "         -22       0.95      0.99      0.97       209\n",
      "           0       0.95      0.98      0.96       904\n",
      "          22       0.78      0.46      0.58        76\n",
      "\n",
      "    accuracy                           0.95      1189\n",
      "   macro avg       0.89      0.81      0.84      1189\n",
      "weighted avg       0.94      0.95      0.94      1189\n",
      "\n"
     ]
    }
   ],
   "source": [
    "#confusion matrix geeft weer hoe vaak het model een fout maakt, mogelijk misleidend door de enorme hoeveelheid instanties rechtdoorrijden tegenover links of rechts sturen (ook als rechtdoor tegenover sturen gaat is de verhouding nog extreem)\n",
    "\n",
    "from sklearn.metrics import classification_report, confusion_matrix\n",
    "print(confusion_matrix(y_test,predictions))\n",
    "print(classification_report(y_test,predictions))"
   ]
  },
  {
   "cell_type": "code",
   "execution_count": 87,
   "metadata": {},
   "outputs": [],
   "source": [
    "# opslaan van model in bestandje in MakeAIWork map (waarom daar, nou kijk dat is dus...)\n",
    "import pickle\n",
    "pickle.dump(mlp, open('pickle_model.pkl', 'wb'))"
   ]
  },
  {
   "cell_type": "code",
   "execution_count": 89,
   "metadata": {},
   "outputs": [
    {
     "data": {
      "text/plain": [
       "sklearn.neural_network._multilayer_perceptron.MLPClassifier"
      ]
     },
     "execution_count": 89,
     "metadata": {},
     "output_type": "execute_result"
    }
   ],
   "source": [
    "type(mlp)\n",
    "\n"
   ]
  },
  {
   "cell_type": "code",
   "execution_count": null,
   "metadata": {},
   "outputs": [],
   "source": []
  },
  {
   "cell_type": "code",
   "execution_count": null,
   "metadata": {},
   "outputs": [],
   "source": []
  },
  {
   "cell_type": "code",
   "execution_count": null,
   "metadata": {},
   "outputs": [],
   "source": []
  },
  {
   "cell_type": "code",
   "execution_count": null,
   "metadata": {},
   "outputs": [],
   "source": []
  },
  {
   "cell_type": "code",
   "execution_count": null,
   "metadata": {},
   "outputs": [],
   "source": []
  },
  {
   "cell_type": "code",
   "execution_count": null,
   "metadata": {},
   "outputs": [],
   "source": []
  },
  {
   "cell_type": "code",
   "execution_count": null,
   "metadata": {},
   "outputs": [],
   "source": []
  }
 ],
 "metadata": {
  "kernelspec": {
   "display_name": "Python 3.10.6 64-bit",
   "language": "python",
   "name": "python3"
  },
  "language_info": {
   "codemirror_mode": {
    "name": "ipython",
    "version": 3
   },
   "file_extension": ".py",
   "mimetype": "text/x-python",
   "name": "python",
   "nbconvert_exporter": "python",
   "pygments_lexer": "ipython3",
   "version": "3.10.6"
  },
  "orig_nbformat": 4,
  "vscode": {
   "interpreter": {
    "hash": "255339e82813f20a98be7c8894b4473184f3fc4c39449c80ccbf6c0b1122f2a8"
   }
  }
 },
 "nbformat": 4,
 "nbformat_minor": 2
}
