{
 "cells": [
  {
   "cell_type": "markdown",
   "id": "e9707e7f-ea3f-4ca0-b763-48d6b9de1b41",
   "metadata": {},
   "source": [
    "<a href=\"https://it-omscholing.nl/locaties/hogeschool-rotterdam/\">\n",
    "<div>\n",
    "<a><img src='../pics/banner.PNG'/></a>\n",
    "</div>\n",
    "<div>\n",
    "<a href=''><img src='../pics/miw.PNG'/></a>\n",
    "<em>Author: Jeroen Boogaard</em>\n",
    "</div>\n",
    "</a>"
   ]
  },
  {
   "cell_type": "markdown",
   "id": "657cd66d-31d9-4efd-a6d7-ca2fa44899c4",
   "metadata": {},
   "source": [
    "---"
   ]
  },
  {
   "cell_type": "markdown",
   "id": "34793cd9-f1cd-4165-a297-6518c0b63ac5",
   "metadata": {},
   "source": [
    "<h1>Enkelvoudige variabelen - Strings</h1>"
   ]
  },
  {
   "cell_type": "raw",
   "id": "2998c5f8-ab4f-44f2-a50d-81d9295938e9",
   "metadata": {},
   "source": [
    "Een String is een enkelvoudig datatype voor textuele content."
   ]
  },
  {
   "cell_type": "markdown",
   "id": "74d6a93a",
   "metadata": {},
   "source": [
    "<h3>String variabelen aanmaken en afdrukken</h3>"
   ]
  },
  {
   "cell_type": "raw",
   "id": "4e19d1e7-9226-4e7b-a8b9-1dd1d31e69fd",
   "metadata": {},
   "source": [
    "Om een String (tijdelijk) in het gegeugen op te slaan, kun je een variabele aanmaken. "
   ]
  },
  {
   "cell_type": "code",
   "execution_count": null,
   "id": "3aa4bb80-8b55-4979-bee5-0fab4eca1067",
   "metadata": {},
   "outputs": [],
   "source": [
    "planet = \"Mercury\""
   ]
  },
  {
   "cell_type": "raw",
   "id": "f622a120-6626-4352-98e9-16a12675cb3a",
   "metadata": {},
   "source": [
    "De variabele planet heeft nu de waarde \"Mercury\" en is krijgt daardoor het type String"
   ]
  },
  {
   "cell_type": "code",
   "execution_count": null,
   "id": "58b57719-afe6-4dcf-a153-184dc168b280",
   "metadata": {},
   "outputs": [],
   "source": [
    "type(planet)"
   ]
  },
  {
   "cell_type": "markdown",
   "id": "0776fbd2",
   "metadata": {},
   "source": [
    "Gebruik camelCase voor de naam van een variabele"
   ]
  },
  {
   "cell_type": "code",
   "execution_count": null,
   "id": "9b672530",
   "metadata": {},
   "outputs": [],
   "source": [
    "myHomePlanet = \"Earth\""
   ]
  },
  {
   "cell_type": "markdown",
   "id": "ad6afe12",
   "metadata": {},
   "source": []
  },
  {
   "cell_type": "raw",
   "id": "81237115-3caf-4df3-9304-8a12f2abe576",
   "metadata": {},
   "source": [
    "Gebruik haakjes voor het afdrukken van een string"
   ]
  },
  {
   "cell_type": "code",
   "execution_count": null,
   "id": "da2b4860-f028-4716-907d-60efc875d649",
   "metadata": {},
   "outputs": [],
   "source": [
    "print(planet)"
   ]
  },
  {
   "cell_type": "raw",
   "id": "3e7c9c3b-e4d2-4458-afb7-6c0db5b83415",
   "metadata": {},
   "source": [
    "Zowel enkele als dubbele quotes zijn toegestaan."
   ]
  },
  {
   "cell_type": "code",
   "execution_count": null,
   "id": "89fa18e5-b595-4c00-a925-9928393ed6bb",
   "metadata": {},
   "outputs": [],
   "source": [
    "star = 'Sun'\n",
    "type(star)"
   ]
  },
  {
   "cell_type": "raw",
   "id": "8191edd1-e5ef-432d-b2d2-0045f325d21f",
   "metadata": {},
   "source": [
    "Wanneer gebruik je enkele en wanneer dubbele quotes? Wees vooral praktisch.."
   ]
  },
  {
   "cell_type": "code",
   "execution_count": null,
   "id": "6ac50411-8461-4587-acd3-72fb10040b3e",
   "metadata": {},
   "outputs": [],
   "source": [
    "print(\"Merury doesn't have an atmosphere because it is so close to the Sun\")\n",
    "print('\"We choose to go to the moon in this decade and do the other things, not because they are easy, but because they are hard\" - JFK')"
   ]
  },
  {
   "cell_type": "markdown",
   "id": "bcefd70b-cae9-47dd-acc8-af3efb6e8bf5",
   "metadata": {},
   "source": [
    "**Variabelen kunnen als onderdeel van een omvattende String worden afgedrukt**"
   ]
  },
  {
   "cell_type": "raw",
   "id": "df8bdcbc-cfb1-4caf-8d76-a4e450faf171",
   "metadata": {},
   "source": [
    "1. met de methode format()"
   ]
  },
  {
   "cell_type": "code",
   "execution_count": null,
   "id": "7ad87022-4b2e-4067-9f8f-1a43fad63029",
   "metadata": {},
   "outputs": [],
   "source": [
    "print(\"Being the planet closest to the {}, {} guards its secrets very carefully\".format(star, planet))"
   ]
  },
  {
   "cell_type": "raw",
   "id": "d38f4d85-dcc0-482e-b230-de6d9a40d85e",
   "metadata": {},
   "source": [
    "2. door gebruik van een f-string"
   ]
  },
  {
   "cell_type": "code",
   "execution_count": null,
   "id": "c1aed156-b5aa-4ed2-a5f6-98c28828314d",
   "metadata": {},
   "outputs": [],
   "source": [
    "print(f\"Being the planet closest to the {star}, {planet} guards its secrets very carefully\")"
   ]
  },
  {
   "cell_type": "raw",
   "id": "924e691e-0fe3-45e9-b8d4-98e5c1c5b801",
   "metadata": {},
   "source": [
    "3. Met de String Formatting Operator"
   ]
  },
  {
   "cell_type": "code",
   "execution_count": null,
   "id": "b5006e39-e666-4c9f-8d0f-3e21b4e810c6",
   "metadata": {},
   "outputs": [],
   "source": [
    "print(\"Being the planet closest to the %s, %s guards its secrets very carefully\" %(star,planet))"
   ]
  },
  {
   "cell_type": "markdown",
   "id": "ad9bc71c-5daa-47e6-be06-a6aeff4eac80",
   "metadata": {},
   "source": [
    "De String die hierdoor ontstaat kan ook aan een variabele worden toegevoegd"
   ]
  },
  {
   "cell_type": "code",
   "execution_count": null,
   "id": "2cb5ef3d-5967-4ad6-ada5-6e1d35f067af",
   "metadata": {},
   "outputs": [],
   "source": [
    "sentence = f\"Being the planet closest to the Sun, {planet} guards its secrets very carefully\""
   ]
  },
  {
   "cell_type": "code",
   "execution_count": null,
   "id": "a261aff8-ae79-4d7d-9cc3-45ceb2e93878",
   "metadata": {},
   "outputs": [],
   "source": [
    "print(sentence)"
   ]
  },
  {
   "cell_type": "markdown",
   "id": "b17d362a-d109-4311-bdc7-2b9fe24657cd",
   "metadata": {},
   "source": [
    "<strong>Exercise 1</strong><br>\n",
    "Print de volgende String op 3 verschillende manieren en met gebruik van de variabelen <i>planet</i>, <i>star</i> en <i>myHomePlanet</i><br>\n",
    "\"Since Mercury is so much closer to the Sun than we are, in the Mercurian sky the Sun appears three times as big as from here on Earth\"<br>"
   ]
  },
  {
   "cell_type": "markdown",
   "id": "7769085e-e1a5-4c0a-893c-e45e4fd8066b",
   "metadata": {},
   "source": [
    "<h3>String operaties</h3>"
   ]
  },
  {
   "cell_type": "markdown",
   "id": "1788a47e-6d0f-4d24-b04d-6108b7e58001",
   "metadata": {},
   "source": [
    "Ookal verander je de waarde van de <i>geinjecteerde variabele</i>, de samengestelde variabele behoudt zijn oorspronkelijke waarde"
   ]
  },
  {
   "cell_type": "code",
   "execution_count": null,
   "id": "03dfb7ba-ecd3-4a0c-9b8e-1df72ec0eed2",
   "metadata": {},
   "outputs": [],
   "source": [
    "planet = \"Venus\"\n",
    "print(planet)\n",
    "print(sentence)"
   ]
  },
  {
   "cell_type": "markdown",
   "id": "5f4d3cc2",
   "metadata": {},
   "source": [
    "Ook na de operatie <i>replace()</i> variabele sentence nog zijn initiele waarde"
   ]
  },
  {
   "cell_type": "code",
   "execution_count": null,
   "id": "093046a0-ac71-410d-b7f2-fdf9b5f12b08",
   "metadata": {},
   "outputs": [],
   "source": [
    "print(sentence.replace(\"Mercury\",\"Venus\"))\n",
    "print(sentence)"
   ]
  },
  {
   "cell_type": "code",
   "execution_count": null,
   "id": "9a62d1d6",
   "metadata": {},
   "outputs": [],
   "source": []
  },
  {
   "cell_type": "markdown",
   "id": "44a4224e-125f-41fa-abc6-8efc225c3478",
   "metadata": {},
   "source": [
    "<h3>Strings en functies</h3>"
   ]
  },
  {
   "cell_type": "code",
   "execution_count": null,
   "id": "dca1eb76-de0d-4d67-ab27-b862226a3583",
   "metadata": {},
   "outputs": [],
   "source": [
    "def printExampleString():\n",
    "    print(\"Because of Mercury's elliptical – egg-shaped – orbit, and sluggish rotation, the Sun appears to rise briefly, set, and rise again from some parts of the planet's surface. The same thing happens in reverse at sunset.\")\n",
    "    \n",
    "printExampleString()    "
   ]
  },
  {
   "cell_type": "code",
   "execution_count": null,
   "id": "62470c21-2eae-4508-87cc-eae3c5e611fe",
   "metadata": {},
   "outputs": [],
   "source": [
    "def showDocString():\n",
    "    \"\"\"\n",
    "    De docstring is een beschrijving van een functie, die bedoeld is voor de programmeur. \n",
    "    De Python interpreter negeert deze String\n",
    "    \"\"\""
   ]
  },
  {
   "cell_type": "code",
   "execution_count": null,
   "id": "e38bc85a-0ec8-48d8-9891-b627881a9294",
   "metadata": {},
   "outputs": [],
   "source": [
    "print(showDocString.__doc__)"
   ]
  }
 ],
 "metadata": {
  "kernelspec": {
   "display_name": "Python 3 (ipykernel)",
   "language": "python",
   "name": "python3"
  },
  "language_info": {
   "codemirror_mode": {
    "name": "ipython",
    "version": 3
   },
   "file_extension": ".py",
   "mimetype": "text/x-python",
   "name": "python",
   "nbconvert_exporter": "python",
   "pygments_lexer": "ipython3",
   "version": "3.10.5"
  },
  "vscode": {
   "interpreter": {
    "hash": "ac2eaa0ea0ebeafcc7822e65e46aa9d4f966f30b695406963e145ea4a91cd4fc"
   }
  }
 },
 "nbformat": 4,
 "nbformat_minor": 5
}
