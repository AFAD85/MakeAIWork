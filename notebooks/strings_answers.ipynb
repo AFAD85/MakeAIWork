{
 "cells": [
  {
   "cell_type": "markdown",
   "id": "e9707e7f-ea3f-4ca0-b763-48d6b9de1b41",
   "metadata": {},
   "source": [
    "<div>\n",
    "<a href=''><img src='banner.PNG'/></a>\n",
    "</div>\n",
    "<div>\n",
    "<a href=''><img src='miw.PNG'/></a>\n",
    "<em>Author: Jeroen Boogaard</em>\n",
    "<h1>Enkelvoudige variabelen</h1>\n",
    "</div>"
   ]
  },
  {
   "cell_type": "markdown",
   "id": "657cd66d-31d9-4efd-a6d7-ca2fa44899c4",
   "metadata": {},
   "source": [
    "---"
   ]
  },
  {
   "cell_type": "markdown",
   "id": "9d2b4e5e-8a04-4a4b-b300-ba9c3bacf718",
   "metadata": {},
   "source": [
    "<h2>Strings</h2>"
   ]
  },
  {
   "cell_type": "markdown",
   "id": "74d6a93a",
   "metadata": {},
   "source": [
    "<h3>String variabelen aanamken en afdrukken</h3>"
   ]
  },
  {
   "cell_type": "code",
   "execution_count": null,
   "id": "3aa4bb80-8b55-4979-bee5-0fab4eca1067",
   "metadata": {},
   "outputs": [],
   "source": [
    "planet = \"Mercury\""
   ]
  },
  {
   "cell_type": "code",
   "execution_count": null,
   "id": "58b57719-afe6-4dcf-a153-184dc168b280",
   "metadata": {},
   "outputs": [],
   "source": [
    "type(planet)"
   ]
  },
  {
   "cell_type": "code",
   "execution_count": null,
   "id": "a92704b0",
   "metadata": {},
   "outputs": [],
   "source": [
    "myHomePlanet = \"Earth\""
   ]
  },
  {
   "cell_type": "code",
   "execution_count": null,
   "id": "89fa18e5-b595-4c00-a925-9928393ed6bb",
   "metadata": {},
   "outputs": [],
   "source": [
    "star = 'Sun'\n",
    "type(star)"
   ]
  },
  {
   "cell_type": "markdown",
   "id": "b17d362a-d109-4311-bdc7-2b9fe24657cd",
   "metadata": {},
   "source": [
    "<strong>Exercise 1</strong><br>\n",
    "Print de volgende String op 3 verschillende manieren en met gebruik van de variabelen <i>planet</i>, <i>star</i> en <i>myHomePlanet</i><br>\n",
    "Since Mercury is so much closer to the Sun than we are, in the Mercurian sky the Sun appears three times as big as from here on Earth<br>"
   ]
  },
  {
   "cell_type": "code",
   "execution_count": null,
   "id": "ce1b2216-08e2-422e-af47-be9009fd494a",
   "metadata": {},
   "outputs": [],
   "source": [
    "print(\"Since {0} is so much closer to the {1} than we are, in the Mercurian sky the {1} appears three times as big as from here on {2}\".format(planet, star, myHomePlanet))\n",
    "print(f\"Since {planet} is so much closer to the {star} than we are, in the Mercurian sky the {star} appears three times as big as from here on {myHomePlanet}\")\n",
    "print(\"Since %s is so much closer to the %s than we are, in the Mercurian sky the %s appears three times as big as from here on %s\" %(planet, star, star, myHomePlanet))"
   ]
  },
  {
   "cell_type": "markdown",
   "id": "7769085e-e1a5-4c0a-893c-e45e4fd8066b",
   "metadata": {},
   "source": [
    "**String operaties**"
   ]
  },
  {
   "cell_type": "code",
   "execution_count": null,
   "id": "2644bffe-de4c-400a-a5ed-86757a79f0be",
   "metadata": {},
   "outputs": [],
   "source": []
  }
 ],
 "metadata": {
  "kernelspec": {
   "display_name": "Python 3.10.5 64-bit",
   "language": "python",
   "name": "python3"
  },
  "language_info": {
   "codemirror_mode": {
    "name": "ipython",
    "version": 3
   },
   "file_extension": ".py",
   "mimetype": "text/x-python",
   "name": "python",
   "nbconvert_exporter": "python",
   "pygments_lexer": "ipython3",
   "version": "3.10.5"
  },
  "vscode": {
   "interpreter": {
    "hash": "b0134f7b8e75f44021e4e93c68aba754f4fda4a06712f5212ece948c9fdd32fe"
   }
  }
 },
 "nbformat": 4,
 "nbformat_minor": 5
}
