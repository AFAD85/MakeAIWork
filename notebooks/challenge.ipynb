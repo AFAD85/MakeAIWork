{
 "cells": [
  {
   "cell_type": "code",
   "execution_count": 49,
   "metadata": {},
   "outputs": [
    {
     "name": "stdout",
     "output_type": "stream",
     "text": [
      "(2, 3)\n",
      "[None, None]\n"
     ]
    }
   ],
   "source": [
    "#!/usr/bin/env python\n",
    "\n",
    "# CHALLENGE:\n",
    "#   Fix method multiply\n",
    "#   Implement size_of\n",
    "\n",
    "class Matrix:\n",
    "\n",
    "    def __init__(self, vectorList):\n",
    "        self.vectorList = vectorList\n",
    "\n",
    "    def __add__(self, matrix2):\n",
    "        vectorList2 = matrix2.vectorList\n",
    "        vectorList3 = [self.addVectors(v1, v2) for (v1, v2) in zip(vectorList1, vectorList2)]\n",
    "        return Matrix(vectorList3)\n",
    "\n",
    "    def addVectors(self, v1, v2):\n",
    "        if len(v1) != len(v2):\n",
    "            return None\n",
    "        else:\n",
    "            v3 = [sum(tup) for tup in zip(v1, v2)]\n",
    "            return v3\n",
    "\n",
    "    # Challenge: Needs to be corrected and finished\n",
    "    # Eerste fout = hij checkt niet of de vermenigvuldiging uberhaubt kan (kolomen matrix1 moet gelijk zijn aan rijen matrix2)\n",
    "    # Tweede fout = \n",
    "    # Commentaar, ik had zelf liever een multiply gemaakt die ook voor vectoren werkt, zonder een apparte te maken die alleen voor vectoren werkt. Geen idee of dit zinnig is, maar dat had mijn eerste instinct geweest.\n",
    "    def multiply(self, matrix2):\n",
    "        vectorList2 = matrix2.vectorList\n",
    "        vectorColumn2 = list()\n",
    "        if len(self.vectorList[0]) == len(vectorList2):\n",
    "            for i in range(0, len(vectorList2)):\n",
    "                vectorColumn2.append(vectorList2[i])\n",
    "            vectorList3 = [self.multiplyVectors(v1, v2) for (v1, v2) in zip(vectorList1, vectorColumn2)]\n",
    "        else:\n",
    "            print(\"BEN JE NOU AANT DOEN JOH????\")\n",
    "        return Matrix(vectorList3)\n",
    "\n",
    "    def multiplyVectors(self, v1, v2):\n",
    "        if len(v1) != len(v2):\n",
    "            return None\n",
    "        else:\n",
    "            v3 = [a*b for (a, b) in zip(v1, v2)]\n",
    "            return v3\n",
    "\n",
    "    # Challenge: Overwrite this dunder method\n",
    "    # This method should return a tuple containing the Matrix dimensions\n",
    "    # sizeof is niet de goede dundermethode hier, deze geeft de grootte in bytes van het object\n",
    "    # in plaats daarvan maak ik een nieuwe functie: matrixSize deze print het aantal rijen en kolommen in die volgorde in een tuple \n",
    "    def matrixSize(self):\n",
    "        size = (len(self.vectorList),len(self.vectorList[0]))\n",
    "        return size\n",
    "    def __str__(self):\n",
    "        return f\"{self.vectorList}\"\n",
    "\n",
    "vectorList1 = ([1, 1, 1], [1, 1, 1])\n",
    "#vectorList2 = ([1, 2, 3], [4, 5, 6])\n",
    "#vectorList2 even aangepast zodat deze kan vermenigvuldigen (de foutmelding in multiply kan worden getest met de hierboven uitgecommente vectorList2)\n",
    "vectorList2 = ([1, 2],[3, 4],[5, 6])\n",
    "\n",
    "matrix1 = Matrix(vectorList1)\n",
    "matrix2 = Matrix(vectorList2)\n",
    "#matrix3 = matrix1 + matrix2\n",
    "matrix4 = matrix1.multiply(matrix2)\n",
    "\n",
    "\n",
    "\n",
    "print(matrix1.matrixSize())\n",
    "\n",
    "print(matrix4)"
   ]
  },
  {
   "cell_type": "code",
   "execution_count": null,
   "metadata": {},
   "outputs": [],
   "source": []
  },
  {
   "cell_type": "code",
   "execution_count": null,
   "metadata": {},
   "outputs": [],
   "source": []
  }
 ],
 "metadata": {
  "language_info": {
   "name": "python"
  },
  "orig_nbformat": 4
 },
 "nbformat": 4,
 "nbformat_minor": 2
}
