{
 "cells": [
  {
   "cell_type": "code",
   "execution_count": 52,
   "metadata": {},
   "outputs": [
    {
     "name": "stdout",
     "output_type": "stream",
     "text": [
      "(3, 2)\n",
      "[None, None]\n"
     ]
    }
   ],
   "source": [
    "#!/usr/bin/env python\n",
    "\n",
    "# CHALLENGE:\n",
    "#   Fix method multiply\n",
    "#   Implement size_of\n",
    "\n",
    "class Matrix:\n",
    "\n",
    "    def __init__(self, vectorList):\n",
    "        self.vectorList = vectorList\n",
    "\n",
    "    def __add__(self, matrix2):\n",
    "        vectorList2 = matrix2.vectorList\n",
    "        vectorList3 = [self.addVectors(v1, v2) for (v1, v2) in zip(vectorList1, vectorList2)]\n",
    "        return Matrix(vectorList3)\n",
    "\n",
    "    def addVectors(self, v1, v2):\n",
    "        if len(v1) != len(v2):\n",
    "            return None\n",
    "        else:\n",
    "            v3 = [sum(tup) for tup in zip(v1, v2)]\n",
    "            return v3\n",
    "\n",
    "    # Challenge: Needs to be corrected and finished\n",
    "    # Eerste fout = hij checkt niet of de vermenigvuldiging uberhaubt kan (kolomen matrix1 moet gelijk zijn aan rijen matrix2)\n",
    "    # Tweede fout = als ik em goed begrijp benadert hij het probleem verkeerd, hij probeert een 3x3 te maken waar het een 2x2 moet worden\n",
    "    # Commentaar, ik had zelf liever een multiply gemaakt die ook voor vectoren werkt, zonder een apparte te maken die alleen voor vectoren werkt. Geen idee of dit zinnig is, maar dat had mijn eerste instinct geweest.\n",
    "    # Aanpak: definieer een matrix adhv de dimensies van de twee matrixen, en ga deze vullen aan de hand van de relevante vermenigvuldigingen?\n",
    "\n",
    "    def multiply(self, matrix):\n",
    "        vectorList = matrix.vectorList\n",
    "        vectorColumn = list()\n",
    "        if len(self.vectorList[0]) != len(vectorList):\n",
    "            return None\n",
    "        for i in range(0, len(vectorList[0])):\n",
    "            temp = list()\n",
    "            for j in range(0, len(vectorList)):\n",
    "                temp.append(vectorList[j][i])\n",
    "            vectorColumn.append(temp)\n",
    "\n",
    "        #  columns of matrix2\n",
    "\n",
    "        vectorList3 = []\n",
    "        for rows in range(0, len(vectorList[0])):\n",
    "            temp = list()\n",
    "            for columns in range(0, len(vectorColumn)):\n",
    "                temp.append(self.multiplyVectors(self.vectorList[rows], vectorColumn[columns]))\n",
    "            vectorList3.append(temp)\n",
    "\n",
    "        return Matrix(vectorList3)\n",
    "    # [1,1,1]  [1,2] [1, 3, 5]\n",
    "    # [1,1,1]X [3,4] [2, 4, 6]\n",
    "    #          [5,6]\n",
    "    #\n",
    "    # End is ([9,12],\n",
    "    #         [9,12])\n",
    "    #\n",
    "    def __multiplyVectors(self, v1, v2):\n",
    "        if len(v1) != len(v2):\n",
    "            return None\n",
    "        else:\n",
    "            v3 = [a*b for (a, b) in zip(v1, v2)]\n",
    "            temp = 0\n",
    "            for x in v3:\n",
    "                temp += x\n",
    "            return temp\n",
    "\n",
    "    # Challenge: Overwrite this dunder method\n",
    "    # This method should return a tuple containing the Matrix dimensions\n",
    "    # sizeof is niet de goede dundermethode hier, deze geeft de grootte in bytes van het object\n",
    "    # in plaats daarvan maak ik een nieuwe functie: matrixSize deze print het aantal rijen en kolommen in die volgorde in een tuple \n",
    "    def matrixSize(self):\n",
    "        size = (len(self.vectorList),len(self.vectorList[0]))\n",
    "        return size\n",
    "    def __str__(self):\n",
    "        return f\"{self.vectorList}\"\n",
    "\n",
    "vectorList1 = ([1, 1, 1], [1, 1, 1])\n",
    "#vectorList2 = ([1, 2, 3], [4, 5, 6])\n",
    "#vectorList2 even aangepast zodat deze kan vermenigvuldigen (de foutmelding in multiply kan worden getest met de hierboven uitgecommente vectorList2)\n",
    "vectorList2 = ([1, 2],[3, 4],[5, 6])\n",
    "\n",
    "matrix1 = Matrix(vectorList1)\n",
    "matrix2 = Matrix(vectorList2)\n",
    "#matrix3 = matrix1 + matrix2\n",
    "matrix4 = matrix1.multiply(matrix2)\n",
    "\n",
    "\n",
    "\n",
    "print(matrix2.matrixSize())\n",
    "\n",
    "print(matrix4)"
   ]
  },
  {
   "cell_type": "code",
   "execution_count": null,
   "metadata": {},
   "outputs": [],
   "source": []
  },
  {
   "cell_type": "code",
   "execution_count": null,
   "metadata": {},
   "outputs": [],
   "source": []
  }
 ],
 "metadata": {
  "kernelspec": {
   "display_name": "Python 3.10.6 64-bit",
   "language": "python",
   "name": "python3"
  },
  "language_info": {
   "name": "python",
   "version": "3.10.6"
  },
  "orig_nbformat": 4,
  "vscode": {
   "interpreter": {
    "hash": "255339e82813f20a98be7c8894b4473184f3fc4c39449c80ccbf6c0b1122f2a8"
   }
  }
 },
 "nbformat": 4,
 "nbformat_minor": 2
}
