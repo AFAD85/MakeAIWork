{
 "cells": [
  {
   "cell_type": "markdown",
   "id": "b45dd50e-d75c-41d2-a549-110cc111e32b",
   "metadata": {},
   "source": [
    "<a href=\"https://it-omscholing.nl/locaties/hogeschool-rotterdam/\">\n",
    "<div>\n",
    "<a><img src='../pics/banner.PNG'/></a>\n",
    "</div>\n",
    "<div>\n",
    "<a href=''><img src='../pics/miw.PNG'/></a>\n",
    "<em>Author: Jeroen Boogaard</em>\n",
    "</div>\n",
    "</a>"
   ]
  },
  {
   "cell_type": "markdown",
   "id": "63f0720b-4a62-479d-873b-c5f6cad9a89d",
   "metadata": {},
   "source": [
    "<h1>Numpy</h1>"
   ]
  },
  {
   "cell_type": "markdown",
   "id": "3619d610-30b3-41a2-b5f0-ae37b9d5b105",
   "metadata": {},
   "source": [
    "**Imports**"
   ]
  },
  {
   "cell_type": "code",
   "execution_count": 20,
   "id": "42257a05-c794-4121-a9cf-fe53fa3a1dc1",
   "metadata": {},
   "outputs": [],
   "source": [
    "import numpy as np\n",
    "import pandas as pd\n",
    "from PIL import Image\n",
    "from scipy import ndimage"
   ]
  },
  {
   "cell_type": "markdown",
   "id": "8e48110a-ff83-4fba-aab9-7cb3678fe668",
   "metadata": {},
   "source": [
    "<h2>Opdracht 1</h2>"
   ]
  },
  {
   "cell_type": "markdown",
   "id": "47ac5b87-14b1-437e-91cb-93dadadef8f9",
   "metadata": {},
   "source": [
    "<h3>Gegeven</h3>"
   ]
  },
  {
   "cell_type": "markdown",
   "id": "8605ba6e-3f4e-4fe1-b76f-c784f2f44735",
   "metadata": {},
   "source": [
    "Planeet | Grootte to.v. de omvang van de Aarde\n",
    "---|---\n",
    "Jupiter | 1120%\n",
    "Saturnus | 945%\n",
    "Uranus | 400%\n",
    "Neptunus | 388%\n",
    "Aarde| 100%\n",
    "Venus | 95%\n",
    "Mars | 53%\n",
    "\n"
   ]
  },
  {
   "cell_type": "code",
   "execution_count": 21,
   "id": "2b471d98-c5b0-4db0-a1c6-155094548c23",
   "metadata": {},
   "outputs": [],
   "source": [
    "filename = \"csv/planets.csv\""
   ]
  },
  {
   "cell_type": "code",
   "execution_count": 22,
   "id": "e5fa129a-d9a8-4899-ba69-87537e1819f5",
   "metadata": {},
   "outputs": [
    {
     "name": "stdout",
     "output_type": "stream",
     "text": [
      " Volume in drive C is Acer\n",
      " Volume Serial Number is D449-D39B\n",
      "\n",
      " Directory of c:\\Users\\Anton\\MakeAIWork\\notebooks\\numpy\\pics\n",
      "\n",
      "11/10/2022  12:05    <DIR>          .\n",
      "11/10/2022  12:05    <DIR>          ..\n",
      "19/09/2022  09:07    <DIR>          .ipynb_checkpoints\n",
      "19/09/2022  09:07            29.680 earth.jpg\n",
      "11/10/2022  12:00           279.112 earth_scaled.jpg\n",
      "19/09/2022  09:07            22.232 jupiter.jpg\n",
      "11/10/2022  12:05           279.112 jupiter_scaled.jpg\n",
      "19/09/2022  09:07            27.847 mars.jpg\n",
      "19/09/2022  09:07           414.893 mars.nasa.jpg\n",
      "19/09/2022  09:07            40.854 mercury.jpg\n",
      "19/09/2022  09:07            14.150 neptune.jpg\n",
      "21/09/2022  12:20             5.287 pluto.jpg\n",
      "19/09/2022  09:07            40.218 saturn.jpg\n",
      "19/09/2022  09:07             9.969 uranus.jpg\n",
      "20/09/2022  13:28            15.308 venus.jpg\n",
      "              12 File(s)      1.178.662 bytes\n",
      "               3 Dir(s)  419.336.732.672 bytes free\n"
     ]
    }
   ],
   "source": [
    "ls pics"
   ]
  },
  {
   "cell_type": "markdown",
   "id": "ad98fa30-0e0a-4ec4-9930-b63db74c11f2",
   "metadata": {},
   "source": [
    "<h3>Gevraagd</h3>\n",
    "<p>\n",
    "Schaal voor elke (erkende) planeet uit ons zonnestelsel de bijbehorende image t.o.v. van de aarde. Het geschaalde plaatje moet groter zijn dan het plaatje van de aarde als de bijbehorende planeet groter is dan de aarde. Is de planeet kleiner dan de aarde dan moet het nieuwe plaatje kleiner zijn. Gebruik voor de schaalfactor het percentage. \n",
    "Tip: Indien nodig kun je de images normaliseren door eerst het plaatje van de aarde te schalen\n",
    "</p>"
   ]
  },
  {
   "cell_type": "markdown",
   "id": "c0c854fb-54db-4baa-b149-2e7d0c1b6391",
   "metadata": {},
   "source": [
    "<h3>Oplossing</h3>\n",
    "<ol>\n",
    "    <li>\n",
    "        <strong>Open het bestand csv/planets.csv en voeg daar de kolom <i>image</i></strong>\n",
    "    </li>\n",
    "    <li>\n",
    "        <strong>Importeer het csv-bestand en sla de data op in een dictionary</strong>\n",
    "    </li>\n",
    "    <li>\n",
    "        <strong>Open een image uit van een item uit de dictionary</strong>\n",
    "    </li>\n",
    "    <li>\n",
    "        <strong>Schaal de image m.b.v. een <i>numpy array</i></strong>\n",
    "    </li>\n",
    "    <li>\n",
    "        <strong>Sla de geschaalde image op</strong>\n",
    "    </li>\n",
    "    <li>\n",
    "        <strong>Schrijf een functie voor het schalen van een image</strong>\n",
    "    </li>    \n",
    "    <li>\n",
    "        <strong>Maak een loop waarbij voor elke planeet een geschaalde image wordt gemaakt en opgelagen</strong>\n",
    "    </li>    \n",
    "</ol>    "
   ]
  },
  {
   "cell_type": "code",
   "execution_count": null,
   "id": "71ebc30b-8b54-487a-80ad-6dd94c89456d",
   "metadata": {},
   "outputs": [],
   "source": []
  },
  {
   "cell_type": "markdown",
   "id": "b2a7b7fb-56b3-43f7-a6b5-34adc057c3d1",
   "metadata": {},
   "source": [
    "**Stap 2: Importeer het csv-bestand en sla de data op in een dictionary**"
   ]
  },
  {
   "cell_type": "code",
   "execution_count": 23,
   "id": "cbcb0e9b-46f8-490d-9a85-eb29037a93cb",
   "metadata": {},
   "outputs": [
    {
     "name": "stdout",
     "output_type": "stream",
     "text": [
      "      Name   Diameter          Mass   Inclination   Eccentricity  \\\n",
      "0  Mercury     4879.4   3.302×10^23      7.004000       0.205636   \n",
      "1    Venus    12103.6   4.869×10^24      3.394710       0.006777   \n",
      "2    Earth    12756.3   5.974×10^24      0.000050       0.016711   \n",
      "3     Mars     6794.4   6.419×10^23      1.850610       0.093394   \n",
      "4  Jupiter   142984.0   1.899×10^27      1.305300       0.048386   \n",
      "5   Saturn   120536.0   5.688×10^26      2.484460       0.053862   \n",
      "6   Uranus    51118.0   8.683×10^25      0.774000       0.047257   \n",
      "7  Neptune    49572.0   1.024×10^26      1.769170       0.008590   \n",
      "8    Pluto     2370.0     1.3×10^22     17.089001       0.250249   \n",
      "\n",
      "    Semi_majorAxis   SurfaceGravity   OrbitalPeriod   SiderealRotation  \\\n",
      "0         0.387099             3.70        0.241000          58.650000   \n",
      "1         0.723336             8.87        0.615000         243.018700   \n",
      "2         1.000003             9.78        1.000000           0.997271   \n",
      "3         1.523710             3.71        1.881000           1.025950   \n",
      "4         5.202887            24.79       11.860000           0.413500   \n",
      "5         9.536676             8.96       29.460000           0.426400   \n",
      "6        19.189165             7.77       84.010000           0.718100   \n",
      "7        30.069923            11.00      164.790000           0.671200   \n",
      "8        39.445070             0.62      247.740662           6.387230   \n",
      "\n",
      "    Satellites   Scales      imgName  \n",
      "0            0     0.38  mercury.jpg  \n",
      "1            0     0.95    venus.jpg  \n",
      "2            1     1.00    earth.jpg  \n",
      "3            2     0.53     mars.jpg  \n",
      "4           63    11.20  jupiter.jpg  \n",
      "5           64     9.44   saturn.jpg  \n",
      "6           27     4.00   uranus.jpg  \n",
      "7           14     3.88  neptune.jpg  \n",
      "8            5     0.18    pluto.jpg  \n"
     ]
    },
    {
     "data": {
      "text/plain": [
       "pandas.core.frame.DataFrame"
      ]
     },
     "execution_count": 23,
     "metadata": {},
     "output_type": "execute_result"
    }
   ],
   "source": [
    "planetDataFrame = pd.read_csv(filename, header = 0, sep = ',')\n",
    "print(planetDataFrame)\n",
    "type(planetDataFrame)\n",
    "# print(planetDataFrame.columns)"
   ]
  },
  {
   "cell_type": "markdown",
   "id": "9d9d8c73-c8fa-41b0-848c-04741aa06bbf",
   "metadata": {},
   "source": [
    "**Stap 3: Open een image uit van een item uit de dictionary**"
   ]
  },
  {
   "cell_type": "code",
   "execution_count": 24,
   "id": "83d43bb9-694e-4390-a8a3-30f6535f6591",
   "metadata": {},
   "outputs": [],
   "source": [
    "#img = Image.open('pics/earth.jpg')\n",
    "#we laden het plaatje van earth.jpg in de variabele img\n",
    "#type(img)\n",
    "#img.show()"
   ]
  },
  {
   "cell_type": "markdown",
   "id": "645b438b-324d-427c-9efd-d621e37445f7",
   "metadata": {
    "tags": []
   },
   "source": [
    "**Stap 4: Schaal de image m.b.v. een numpy array**"
   ]
  },
  {
   "cell_type": "code",
   "execution_count": 25,
   "id": "8894e6bd-6237-4cf6-8d95-222d6a3be56e",
   "metadata": {},
   "outputs": [],
   "source": [
    "#array = np.array(img)\n",
    "#hier maken we een numpy array van onze variabele img (waar dus dat plaatje van aarde in staat)\n",
    "#type(array)\n",
    "#scaleFactor = 1\n",
    "#hier zetten we de scale factor (nu dus 1 want aarde is onze basis)\n",
    "#scaleArray = ndimage.zoom(array, (scaleFactor, scaleFactor, 1))\n",
    "#hier schalen we onze array op de x en y as (niet de Z as dat is de 1 en die blijft 1)\n",
    "#imgScaled = Image.fromarray(scaleArray)\n",
    "#hier maken we weer een image van scaleArray\n",
    "#imgScaled.show()\n",
    "#we kijken naar de image\n"
   ]
  },
  {
   "cell_type": "markdown",
   "id": "8611929d-d109-4f62-881f-b8a64db1e648",
   "metadata": {},
   "source": [
    "**Stap 5: Sla de geschaalde image op**"
   ]
  },
  {
   "cell_type": "code",
   "execution_count": 26,
   "id": "2e34fa25-3cc3-4e5f-b29a-7793e505db61",
   "metadata": {},
   "outputs": [],
   "source": [
    "#imgScaled.save(img.filename.replace(\".jpg\",\"_scaled.jpg\"))\n",
    "# hier slaan we onze gescallede image op met _scaled achter de naam"
   ]
  },
  {
   "cell_type": "markdown",
   "id": "f142ebe1-f561-447b-8e2e-e8855b20cd50",
   "metadata": {},
   "source": [
    "**Stap 6: Schrijf een functie voor het schalen van een image**"
   ]
  },
  {
   "cell_type": "code",
   "execution_count": null,
   "id": "70bbaea6-0ff5-4948-ad20-adc9963dcc1b",
   "metadata": {},
   "outputs": [],
   "source": []
  },
  {
   "cell_type": "code",
   "execution_count": 27,
   "id": "f0cc386c",
   "metadata": {},
   "outputs": [],
   "source": [
    "# op voorhand heb ik een nieuwe kolom gemaakt in planets.csv met de namen van de \n",
    "\n",
    "# zoomFactoren = \n",
    "#print(planetsCsvDAta)\n",
    "def scaleImage(image,zoomFactor):\n",
    "    #img = Image.open(image)\n",
    "    array = np.array(image)\n",
    "    scaleFactor = zoomFactor\n",
    "    scaleArray = ndimage.zoom(array, (scaleFactor, scaleFactor, 1))\n",
    "    imgScaled = Image.fromarray(scaleArray)\n",
    "    imgScaled.save(image.filename.replace(\".jpg\",\"_scaled.jpg\"))\n",
    "#aanroep van de functie\n",
    "#jupiter = Image.open(\"pics/jupiter.jpg\")\n",
    "#scaleImage(jupiter, 11.20)\n",
    "\n",
    "#loc en iloc checken van pandas\n",
    "\n"
   ]
  },
  {
   "cell_type": "code",
   "execution_count": 47,
   "id": "2277d6ca",
   "metadata": {},
   "outputs": [
    {
     "name": "stdout",
     "output_type": "stream",
     "text": [
      "['mercury.jpg', 'venus.jpg', 'earth.jpg', 'mars.jpg', 'jupiter.jpg', 'saturn.jpg', 'uranus.jpg', 'neptune.jpg', 'pluto.jpg']\n",
      "[0.38, 0.95, 1.0, 0.53, 11.2, 9.44, 4.0, 3.88, 0.18]\n"
     ]
    },
    {
     "ename": "TypeError",
     "evalue": "list indices must be integers or slices, not builtin_function_or_method",
     "output_type": "error",
     "traceback": [
      "\u001b[1;31m---------------------------------------------------------------------------\u001b[0m",
      "\u001b[1;31mTypeError\u001b[0m                                 Traceback (most recent call last)",
      "\u001b[1;32mc:\\Users\\Anton\\MakeAIWork\\notebooks\\numpy\\numpy_opdracht1.ipynb Cell 24\u001b[0m in \u001b[0;36m<cell line: 7>\u001b[1;34m()\u001b[0m\n\u001b[0;32m      <a href='vscode-notebook-cell:/c%3A/Users/Anton/MakeAIWork/notebooks/numpy/numpy_opdracht1.ipynb#X32sZmlsZQ%3D%3D?line=7'>8</a>\u001b[0m planetImage \u001b[39m=\u001b[39m Image\u001b[39m.\u001b[39mopen(\u001b[39mf\u001b[39m\u001b[39m\"\u001b[39m\u001b[39mpics/\u001b[39m\u001b[39m{\u001b[39;00mimage\u001b[39m}\u001b[39;00m\u001b[39m\"\u001b[39m)\n\u001b[0;32m      <a href='vscode-notebook-cell:/c%3A/Users/Anton/MakeAIWork/notebooks/numpy/numpy_opdracht1.ipynb#X32sZmlsZQ%3D%3D?line=8'>9</a>\u001b[0m array \u001b[39m=\u001b[39m np\u001b[39m.\u001b[39marray(image)\n\u001b[1;32m---> <a href='vscode-notebook-cell:/c%3A/Users/Anton/MakeAIWork/notebooks/numpy/numpy_opdracht1.ipynb#X32sZmlsZQ%3D%3D?line=9'>10</a>\u001b[0m scaleFactor \u001b[39m=\u001b[39m zoomFactorList[(image\u001b[39m.\u001b[39;49mindex)]\n\u001b[0;32m     <a href='vscode-notebook-cell:/c%3A/Users/Anton/MakeAIWork/notebooks/numpy/numpy_opdracht1.ipynb#X32sZmlsZQ%3D%3D?line=10'>11</a>\u001b[0m scaleArray \u001b[39m=\u001b[39m ndimage\u001b[39m.\u001b[39mzoom(array, (scaleFactor, scaleFactor, \u001b[39m1\u001b[39m))\n\u001b[0;32m     <a href='vscode-notebook-cell:/c%3A/Users/Anton/MakeAIWork/notebooks/numpy/numpy_opdracht1.ipynb#X32sZmlsZQ%3D%3D?line=11'>12</a>\u001b[0m imgScaled \u001b[39m=\u001b[39m Image\u001b[39m.\u001b[39mfromarray(scaleArray)\n",
      "\u001b[1;31mTypeError\u001b[0m: list indices must be integers or slices, not builtin_function_or_method"
     ]
    }
   ],
   "source": [
    "\n",
    "#print(planetDataFrame.columns.tolist())\n",
    "imageList = list(planetDataFrame[' imgName'])\n",
    "zoomFactorList = planetDataFrame[' Scales'].tolist()\n",
    "print(imageList)\n",
    "print(zoomFactorList)\n",
    "\n",
    "\n",
    "#Hoe laat ik adhv de index in het csv bestand het plaatje en de factor in de functie invullen \n",
    "for planets.iloc in planets.csv:\n",
    "    planetImage = Image.open(f\"pics/{image}\")\n",
    "    array = np.array(image)\n",
    "    scaleFactor = zoomFactorList[(image.index)]\n",
    "    scaleArray = ndimage.zoom(array, (scaleFactor, scaleFactor, 1))\n",
    "    imgScaled = Image.fromarray(scaleArray)\n",
    "    imgScaled.save(image.filename.replace(\".jpg\",\"_scaled.jpg\"))\n",
    "\n"
   ]
  },
  {
   "cell_type": "code",
   "execution_count": null,
   "id": "5a653704",
   "metadata": {},
   "outputs": [
    {
     "name": "stdout",
     "output_type": "stream",
     "text": [
      "c:\\Users\\Anton\\MakeAIWork\\notebooks\\numpy\n"
     ]
    }
   ],
   "source": [
    "import os\n",
    "print(os.getcwd())"
   ]
  },
  {
   "cell_type": "markdown",
   "id": "5a550077-c83c-4af2-96fa-7a32158d5198",
   "metadata": {},
   "source": [
    "**Stap 7: Maak een loop waarbij voor elke planeet een geschaalde image wordt gemaakt en opgelagen**"
   ]
  },
  {
   "cell_type": "markdown",
   "id": "a668a8e8-4d7e-4c6d-adbc-61935887fabe",
   "metadata": {
    "jupyter": {
     "source_hidden": true
    },
    "tags": []
   },
   "source": [
    "<h4>Bonus: Voeg Mercurius aan de tabel toe en schaal ook daarvan het plaatje</h4>"
   ]
  },
  {
   "cell_type": "code",
   "execution_count": null,
   "id": "aa15b8a3-a0bb-44c6-893d-5a3126bc1f03",
   "metadata": {},
   "outputs": [
    {
     "ename": "NameError",
     "evalue": "name 'csvkolomPlanets' is not defined",
     "output_type": "error",
     "traceback": [
      "\u001b[1;31m---------------------------------------------------------------------------\u001b[0m",
      "\u001b[1;31mNameError\u001b[0m                                 Traceback (most recent call last)",
      "\u001b[1;32mc:\\Users\\Anton\\MakeAIWork\\notebooks\\numpy\\numpy_opdracht1.ipynb Cell 28\u001b[0m in \u001b[0;36m<cell line: 5>\u001b[1;34m()\u001b[0m\n\u001b[0;32m      <a href='vscode-notebook-cell:/c%3A/Users/Anton/MakeAIWork/notebooks/numpy/numpy_opdracht1.ipynb#X36sZmlsZQ%3D%3D?line=0'>1</a>\u001b[0m \u001b[39m# planetsCsvDAta = pd.read_csv(\"csv/planets.csv\")\u001b[39;00m\n\u001b[0;32m      <a href='vscode-notebook-cell:/c%3A/Users/Anton/MakeAIWork/notebooks/numpy/numpy_opdracht1.ipynb#X36sZmlsZQ%3D%3D?line=1'>2</a>\u001b[0m \u001b[39m# imageLijst = []\u001b[39;00m\n\u001b[0;32m      <a href='vscode-notebook-cell:/c%3A/Users/Anton/MakeAIWork/notebooks/numpy/numpy_opdracht1.ipynb#X36sZmlsZQ%3D%3D?line=2'>3</a>\u001b[0m \u001b[39m# imageLijst.append(array = np.array(image))\u001b[39;00m\n\u001b[1;32m----> <a href='vscode-notebook-cell:/c%3A/Users/Anton/MakeAIWork/notebooks/numpy/numpy_opdracht1.ipynb#X36sZmlsZQ%3D%3D?line=4'>5</a>\u001b[0m scaleImage([planets \u001b[39m*\u001b[39m zoomfactor \u001b[39mfor\u001b[39;00m planets, zoomfactor \u001b[39min\u001b[39;00m \u001b[39mzip\u001b[39m(csvkolomPlanets(), csvkolomZoomfactor())])\n",
      "\u001b[1;31mNameError\u001b[0m: name 'csvkolomPlanets' is not defined"
     ]
    }
   ],
   "source": [
    "# planetsCsvDAta = pd.read_csv(\"csv/planets.csv\")\n",
    "# imageLijst = []\n",
    "# imageLijst.append(array = np.array(image))\n",
    "\n",
    "\n",
    "\n",
    "#scaleImage([planets * zoomfactor for planets, zoomfactor in zip(csvkolomPlanets(), csvkolomZoomfactor())])  \n"
   ]
  },
  {
   "cell_type": "markdown",
   "id": "11d181d1-c906-4ad1-9d8f-69836a4e8cc7",
   "metadata": {},
   "source": [
    "</ol>"
   ]
  },
  {
   "cell_type": "markdown",
   "id": "03ac855f-3986-4b4a-823c-10c6d8b33024",
   "metadata": {},
   "source": [
    "</ol>"
   ]
  },
  {
   "cell_type": "markdown",
   "id": "0be19a7e-a00f-4773-a19a-50b07618f856",
   "metadata": {},
   "source": [
    "\n"
   ]
  }
 ],
 "metadata": {
  "kernelspec": {
   "display_name": "Python 3.10.6 64-bit",
   "language": "python",
   "name": "python3"
  },
  "language_info": {
   "codemirror_mode": {
    "name": "ipython",
    "version": 3
   },
   "file_extension": ".py",
   "mimetype": "text/x-python",
   "name": "python",
   "nbconvert_exporter": "python",
   "pygments_lexer": "ipython3",
   "version": "3.10.6"
  },
  "vscode": {
   "interpreter": {
    "hash": "255339e82813f20a98be7c8894b4473184f3fc4c39449c80ccbf6c0b1122f2a8"
   }
  }
 },
 "nbformat": 4,
 "nbformat_minor": 5
}
